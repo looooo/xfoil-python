{
 "cells": [
  {
   "cell_type": "code",
   "execution_count": 6,
   "metadata": {},
   "outputs": [],
   "source": [
    "import xfoil\n",
    "from openglider import airfoil"
   ]
  },
  {
   "cell_type": "code",
   "execution_count": 24,
   "metadata": {},
   "outputs": [
    {
     "data": {
      "image/svg+xml": [
       "<svg baseProfile=\"full\" height=\"112.35930942203716\" version=\"1.1\" viewBox=\"-0.1,-0.08229517133806802,1.2,0.16853896413305572\" width=\"800\" xmlns=\"http://www.w3.org/2000/svg\" xmlns:ev=\"http://www.w3.org/2001/xml-events\" xmlns:xlink=\"http://www.w3.org/1999/xlink\"><defs /><g transform=\"scale(1,-1)\"><polyline points=\"1.0,3.2901983514041734e-17 0.9372094804706866,0.00924546153513329 0.8746667664356957,0.01822828480127914 0.8126186854142754,0.026804583923243263 0.7513101128351451,0.034816806629855604 0.6909830056250525,0.042170904757305124 0.6318754473153221,0.04876116591808116 0.5742207084349273,0.054502349022344215 0.5182463258982847,0.05933060140435237 0.46417320502100334,0.06312304929114923 0.4122147477075268,0.0658935460604224 0.3625760102513103,0.06764013823479381 0.3154528940713114,0.06825025766031337 0.27103137257858845,0.06780499082651761 0.22948675722421072,0.06632070095873517 0.19098300562505255,0.06374622744862585 0.15567207449798498,0.06027571421740948 0.12369331995613632,0.0557536987233756 0.09517294753398042,0.050513926645444664 0.07022351411174863,0.04433612737807948 0.04894348370484644,0.03765330992409394 0.03141683887136895,0.030188012411138197 0.017712749271311376,0.022515239439587283 0.007885298685522114,0.014147634429980136 0.0019732715717284332,0.006077208850703608 0.0,0.0 0.0019732715717284384,-0.011747473195762219 0.007885298685522233,-0.019763399507308058 0.017712749271311373,-0.028066033100548646 0.0314168388713688,-0.03567915796854519 0.048943483704846386,-0.04304288909289283 0.07022351411174861,-0.04962058709558129 0.0951729475339805,-0.05565859020945069 0.12369331995613647,-0.06075094155067857 0.15567207449798512,-0.06510435908936907 0.19098300562505252,-0.0683781618552565 0.2294867572242106,-0.07074545105406589 0.27103137257858867,-0.07199706604991485 0.3154528940713111,-0.07219887911723306 0.36257601025131003,-0.07132267300945058 0.4122147477075266,-0.06929937281013372 0.4641732050210032,-0.0662365309586618 0.5182463258982842,-0.062134187319790646 0.5742207084349269,-0.056986467061463264 0.6318754473153219,-0.050913825680755496 0.6909830056250525,-0.04398157646460094 0.7513101128351453,-0.03627652329932341 0.8126186854142752,-0.027906030065182313 0.8746667664356954,-0.018966074064760512 0.9372094804706865,-0.009615423964481503 0.9999999999999999,-4.9439619065339e-17\" style=\"stroke:black; vector-effect: non-scaling-stroke; fill: none;\" /></g></svg>"
      ],
      "text/plain": [
       "<class '<class 'openglider.airfoil.profile_2d.Profile2D'>' name: VanDeVooren_tau=0.3_epsilon=0.05"
      ]
     },
     "execution_count": 24,
     "metadata": {},
     "output_type": "execute_result"
    }
   ],
   "source": [
    "a = airfoil.Profile2D.compute_vandevooren(tau=0.3)\n",
    "a.numpoints = 50\n",
    "foil = xfoil.XFoil()\n",
    "foil.initialize()\n",
    "foil.init_geometry(a)\n",
    "foil.init_analysis(Re=9000000., alpha=0.1, Mach=0.01, NCrit=9., bViscous=False, XtrTop=0.5, XtrBot=0.5)\n",
    "a"
   ]
  },
  {
   "cell_type": "code",
   "execution_count": 28,
   "metadata": {},
   "outputs": [
    {
     "data": {
      "text/plain": [
       "True"
      ]
     },
     "execution_count": 28,
     "metadata": {},
     "output_type": "execute_result"
    }
   ],
   "source": [
    "foil.run(1, initBL=True)"
   ]
  },
  {
   "cell_type": "code",
   "execution_count": 20,
   "metadata": {},
   "outputs": [
    {
     "data": {
      "text/plain": [
       "{'cd': 0.0, 'cl': nan, 'cm': nan, 'xcp': 0.0}"
      ]
     },
     "execution_count": 20,
     "metadata": {},
     "output_type": "execute_result"
    }
   ],
   "source": [
    "foil.get_aero_components()"
   ]
  },
  {
   "cell_type": "code",
   "execution_count": 8,
   "metadata": {},
   "outputs": [
    {
     "data": {
      "text/plain": [
       "True"
      ]
     },
     "execution_count": 8,
     "metadata": {},
     "output_type": "execute_result"
    }
   ],
   "source": [
    "foil.viscal()"
   ]
  },
  {
   "cell_type": "code",
   "execution_count": 9,
   "metadata": {},
   "outputs": [
    {
     "data": {
      "text/plain": [
       "True"
      ]
     },
     "execution_count": 9,
     "metadata": {},
     "output_type": "execute_result"
    }
   ],
   "source": [
    "foil.ViscousIter()"
   ]
  },
  {
   "cell_type": "code",
   "execution_count": 10,
   "metadata": {},
   "outputs": [
    {
     "data": {
      "text/plain": [
       "True"
      ]
     },
     "execution_count": 10,
     "metadata": {},
     "output_type": "execute_result"
    }
   ],
   "source": [
    "foil.ViscalEnd()"
   ]
  },
  {
   "cell_type": "markdown",
   "metadata": {},
   "source": [
    "debug info:\n",
    "```\n",
    "trchek2 - n2 convergence failed\n",
    "trchek2 - n2 convergence failed\n",
    "trchek2 - n2 convergence failed\n",
    "trchek2 - n2 convergence failed\n",
    "trchek2 - n2 convergence failed\n",
    "trchek2 - n2 convergence failed\n",
    "trchek2 - n2 convergence failed\n",
    "trchek2 - n2 convergence failed\n",
    "trchek2 - n2 convergence failed\n",
    "trchek2 - n2 convergence failed\n",
    "trchek2 - n2 convergence failed\n",
    "trchek2 - n2 convergence failed\n",
    "trchek2 - n2 convergence failed\n",
    "trchek2 - n2 convergence failed\n",
    "trchek2 - n2 convergence failed\n",
    "trchek2 - n2 convergence failed\n",
    "trchek2 - n2 convergence failed\n",
    "trchek2 - n2 convergence failed\n",
    "trchek2 - n2 convergence failed\n",
    "trchek2 - n2 convergence failed\n",
    "trchek2 - n2 convergence failed\n",
    "trchek2 - n2 convergence failed\n",
    "trchek2 - n2 convergence failed\n",
    "trchek2 - n2 convergence failed\n",
    "trchek2 - n2 convergence failed\n",
    "trchek2 - n2 convergence failed\n",
    "     mrchdu: convergence failed at 14 ,  side 2, res = nan\n",
    ".\n",
    ".\n",
    ".\n",
    "trchek2 - n2 convergence failed\n",
    "stfind: Stagnation point not found. Continuing ...\n",
    "\n",
    "     \n",
    "```\n"
   ]
  }
 ],
 "metadata": {
  "kernelspec": {
   "display_name": "Python 3",
   "language": "python",
   "name": "python3"
  },
  "language_info": {
   "codemirror_mode": {
    "name": "ipython",
    "version": 3
   },
   "file_extension": ".py",
   "mimetype": "text/x-python",
   "name": "python",
   "nbconvert_exporter": "python",
   "pygments_lexer": "ipython3",
   "version": "3.6.6"
  }
 },
 "nbformat": 4,
 "nbformat_minor": 2
}
