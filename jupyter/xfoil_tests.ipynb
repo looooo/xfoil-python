{
 "cells": [
  {
   "cell_type": "code",
   "execution_count": 1,
   "metadata": {},
   "outputs": [],
   "source": [
    "import xfoil\n",
    "from openglider import airfoil"
   ]
  },
  {
   "cell_type": "code",
   "execution_count": 2,
   "metadata": {},
   "outputs": [
    {
     "data": {
      "image/svg+xml": [
       "<svg baseProfile=\"full\" height=\"112.1223877942763\" version=\"1.1\" viewBox=\"-0.1,-0.08216005759784598,1.2,0.16818358169141445\" width=\"800\" xmlns=\"http://www.w3.org/2000/svg\" xmlns:ev=\"http://www.w3.org/2001/xml-events\" xmlns:xlink=\"http://www.w3.org/1999/xlink\"><defs /><g transform=\"scale(1,-1)\"><polyline points=\"1.0,3.2901983514041734e-17 0.8954715367323466,0.015265546866446399 0.7920883091822407,0.02952824495511909 0.6909830056250525,0.042170904757305124 0.5932633569241998,0.05266670662517566 0.5,0.060684118289655274 0.4122147477075268,0.0658935460604224 0.33086939364114176,0.06814475912356144 0.25685517452260587,0.06740797824802013 0.19098300562505255,0.06374622744862585 0.1339745962155614,0.05731187236391544 0.08645454235739916,0.048483074513518486 0.04894348370484644,0.03765330992409394 0.02185239926619433,0.025006893378429665 0.005478104631726716,0.011274009611704307 0.0,0.0 0.005478104631726609,-0.01689269205333806 0.021852399266194318,-0.03054053623655195 0.048943483704846386,-0.04304288909289283 0.08645454235739898,-0.053680642874143106 0.13397459621556124,-0.06225513253905337 0.19098300562505252,-0.0683781618552565 0.2568551745226056,-0.07167708825486625 0.33086939364114204,-0.07200822561928394 0.4122147477075266,-0.06929937281013372 0.5000000000000001,-0.06359349239825787 0.5932633569242002,-0.055041536562264744 0.6909830056250525,-0.04398157646460094 0.7920883091822406,-0.03074978464092315 0.895471536732346,-0.01588109739663447 0.9999999999999999,-4.9439619065339e-17\" style=\"stroke:black; vector-effect: non-scaling-stroke; fill: none;\" /></g></svg>"
      ],
      "text/plain": [
       "<class '<class 'openglider.airfoil.profile_2d.Profile2D'>' name: VanDeVooren_tau=0.3_epsilon=0.05"
      ]
     },
     "execution_count": 2,
     "metadata": {},
     "output_type": "execute_result"
    }
   ],
   "source": [
    "a = airfoil.Profile2D.compute_vandevooren(tau=0.3)\n",
    "a.numpoints = 30\n",
    "foil = xfoil.XFoil()\n",
    "foil.initialize()\n",
    "foil.init_geometry(a)\n",
    "foil.init_analysis(Re=900000., alpha=0.1, Mach=0.01, NCrit=9., bViscous=False, XtrTop=0.5, XtrBot=0.5)\n",
    "a"
   ]
  },
  {
   "cell_type": "code",
   "execution_count": 3,
   "metadata": {},
   "outputs": [
    {
     "data": {
      "text/plain": [
       "True"
      ]
     },
     "execution_count": 3,
     "metadata": {},
     "output_type": "execute_result"
    }
   ],
   "source": [
    "foil.run(100, initBL=False)"
   ]
  },
  {
   "cell_type": "code",
   "execution_count": 4,
   "metadata": {},
   "outputs": [
    {
     "data": {
      "text/plain": [
       "{'cd': 0.0, 'cl': nan, 'cm': nan, 'xcp': 0.0}"
      ]
     },
     "execution_count": 4,
     "metadata": {},
     "output_type": "execute_result"
    }
   ],
   "source": [
    "foil.get_aero_components()"
   ]
  },
  {
   "cell_type": "code",
   "execution_count": 5,
   "metadata": {},
   "outputs": [
    {
     "data": {
      "text/plain": [
       "True"
      ]
     },
     "execution_count": 5,
     "metadata": {},
     "output_type": "execute_result"
    }
   ],
   "source": [
    "foil.viscal()"
   ]
  },
  {
   "cell_type": "code",
   "execution_count": 6,
   "metadata": {},
   "outputs": [
    {
     "data": {
      "text/plain": [
       "True"
      ]
     },
     "execution_count": 6,
     "metadata": {},
     "output_type": "execute_result"
    }
   ],
   "source": [
    "foil.ViscousIter()"
   ]
  },
  {
   "cell_type": "code",
   "execution_count": 7,
   "metadata": {},
   "outputs": [
    {
     "data": {
      "text/plain": [
       "True"
      ]
     },
     "execution_count": 7,
     "metadata": {},
     "output_type": "execute_result"
    }
   ],
   "source": [
    "foil.ViscalEnd()"
   ]
  },
  {
   "cell_type": "markdown",
   "metadata": {},
   "source": [
    "debug info:\n",
    "```\n",
    "trchek2 - n2 convergence failed\n",
    "trchek2 - n2 convergence failed\n",
    "trchek2 - n2 convergence failed\n",
    "trchek2 - n2 convergence failed\n",
    "trchek2 - n2 convergence failed\n",
    "trchek2 - n2 convergence failed\n",
    "trchek2 - n2 convergence failed\n",
    "trchek2 - n2 convergence failed\n",
    "trchek2 - n2 convergence failed\n",
    "trchek2 - n2 convergence failed\n",
    "trchek2 - n2 convergence failed\n",
    "trchek2 - n2 convergence failed\n",
    "trchek2 - n2 convergence failed\n",
    "trchek2 - n2 convergence failed\n",
    "trchek2 - n2 convergence failed\n",
    "trchek2 - n2 convergence failed\n",
    "trchek2 - n2 convergence failed\n",
    "trchek2 - n2 convergence failed\n",
    "trchek2 - n2 convergence failed\n",
    "trchek2 - n2 convergence failed\n",
    "trchek2 - n2 convergence failed\n",
    "trchek2 - n2 convergence failed\n",
    "trchek2 - n2 convergence failed\n",
    "trchek2 - n2 convergence failed\n",
    "trchek2 - n2 convergence failed\n",
    "trchek2 - n2 convergence failed\n",
    "     mrchdu: convergence failed at 14 ,  side 2, res = nan\n",
    "     \n",
    "```\n"
   ]
  },
  {
   "cell_type": "code",
   "execution_count": null,
   "metadata": {},
   "outputs": [],
   "source": []
  }
 ],
 "metadata": {
  "kernelspec": {
   "display_name": "Python 3",
   "language": "python",
   "name": "python3"
  },
  "language_info": {
   "codemirror_mode": {
    "name": "ipython",
    "version": 3
   },
   "file_extension": ".py",
   "mimetype": "text/x-python",
   "name": "python",
   "nbconvert_exporter": "python",
   "pygments_lexer": "ipython3",
   "version": "3.6.6"
  }
 },
 "nbformat": 4,
 "nbformat_minor": 2
}
